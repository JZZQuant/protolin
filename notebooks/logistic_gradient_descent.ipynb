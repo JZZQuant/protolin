{
 "cells": [
  {
   "cell_type": "code",
   "execution_count": 184,
   "metadata": {},
   "outputs": [
    {
     "data": {
      "text/plain": [
       "56.0"
      ]
     },
     "execution_count": 184,
     "metadata": {},
     "output_type": "execute_result"
    }
   ],
   "source": [
    "import numpy as np\n",
    "n=100\n",
    "X=np.random.uniform(low=-500,high=500,size=(n,10))\n",
    "X=np.column_stack((X,np.ones(n)))\n",
    "weights=[1.2,-3.4,4,-2,2,1.5,-3,-3,-3,2,1.6]\n",
    "y=(np.sign(np.dot(X,weights))+1)/2\n",
    "np.sum(y)"
   ]
  },
  {
   "cell_type": "code",
   "execution_count": 185,
   "metadata": {},
   "outputs": [],
   "source": [
    "def sigmoid(x,weights):\n",
    "    theta=np.dot(x,weights)\n",
    "    return 1/(1+np.exp(-theta))\n",
    "\n",
    "def log_loss(inputs,outputs,weights):\n",
    "    p=np.apply_along_axis(sigmoid,1,inputs,weights)\n",
    "    return (np.dot(y,np.log(p))+np.dot(1-y,np.log(1-p)))/(-1*n)\n",
    "\n",
    "def accuracy(inputs,outputs,weights):\n",
    "    p=np.apply_along_axis(sigmoid,1,inputs,weights)\n",
    "    predict=[np.random.binomial(1,t,1)[0] for t in p ]\n",
    "    return 100 - (np.sum(np.abs(predict-outputs))*100/n)"
   ]
  },
  {
   "cell_type": "code",
   "execution_count": 186,
   "metadata": {},
   "outputs": [
    {
     "name": "stderr",
     "output_type": "stream",
     "text": [
      "/usr/local/lib/python2.7/site-packages/ipykernel_launcher.py:3: RuntimeWarning: overflow encountered in exp\n",
      "  This is separate from the ipykernel package so we can avoid doing imports until\n"
     ]
    }
   ],
   "source": [
    "loss=np.inf\n",
    "weights=[0,0,0,0,0,0,0,0,0,0,0]\n",
    "accu=0\n",
    "while accu < 95:\n",
    "    p=np.apply_along_axis(sigmoid,1,X,weights)\n",
    "    weights = weights - (0.02/n) * np.sum(np.transpose(X)*(p-y),axis=1)\n",
    "    #print(log_loss(X,y,weights))\n",
    "    accu = accuracy(X,y,weights)\n",
    "    #print(accu)"
   ]
  },
  {
   "cell_type": "code",
   "execution_count": 187,
   "metadata": {},
   "outputs": [
    {
     "data": {
      "text/plain": [
       "95.0"
      ]
     },
     "execution_count": 187,
     "metadata": {},
     "output_type": "execute_result"
    }
   ],
   "source": [
    "accu"
   ]
  },
  {
   "cell_type": "code",
   "execution_count": null,
   "metadata": {},
   "outputs": [],
   "source": []
  }
 ],
 "metadata": {
  "kernelspec": {
   "display_name": "Python 3",
   "language": "python",
   "name": "python3"
  },
  "language_info": {
   "codemirror_mode": {
    "name": "ipython",
    "version": 2
   },
   "file_extension": ".py",
   "mimetype": "text/x-python",
   "name": "python",
   "nbconvert_exporter": "python",
   "pygments_lexer": "ipython2",
   "version": "2.7.14"
  }
 },
 "nbformat": 4,
 "nbformat_minor": 2
}
